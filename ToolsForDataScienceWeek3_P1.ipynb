{
    "cells": [
        {
            "cell_type": "markdown",
            "metadata": {},
            "source": "# Sample Sales Data\n"
        },
        {
            "cell_type": "code",
            "execution_count": 1,
            "metadata": {},
            "outputs": [
                {
                    "data": {
                        "text/html": "<div>\n<style scoped>\n    .dataframe tbody tr th:only-of-type {\n        vertical-align: middle;\n    }\n\n    .dataframe tbody tr th {\n        vertical-align: top;\n    }\n\n    .dataframe thead th {\n        text-align: right;\n    }\n</style>\n<table border=\"1\" class=\"dataframe\">\n  <thead>\n    <tr style=\"text-align: right;\">\n      <th></th>\n      <th>Postcode</th>\n      <th>Sales_Rep_ID</th>\n      <th>Sales_Rep_Name</th>\n      <th>Year</th>\n      <th>Value</th>\n    </tr>\n  </thead>\n  <tbody>\n    <tr>\n      <th>0</th>\n      <td>2121</td>\n      <td>456</td>\n      <td>Jane</td>\n      <td>2011</td>\n      <td>84219.497311</td>\n    </tr>\n    <tr>\n      <th>1</th>\n      <td>2092</td>\n      <td>789</td>\n      <td>Ashish</td>\n      <td>2012</td>\n      <td>28322.192268</td>\n    </tr>\n    <tr>\n      <th>2</th>\n      <td>2128</td>\n      <td>456</td>\n      <td>Jane</td>\n      <td>2013</td>\n      <td>81878.997241</td>\n    </tr>\n    <tr>\n      <th>3</th>\n      <td>2073</td>\n      <td>123</td>\n      <td>John</td>\n      <td>2011</td>\n      <td>44491.142121</td>\n    </tr>\n    <tr>\n      <th>4</th>\n      <td>2134</td>\n      <td>789</td>\n      <td>Ashish</td>\n      <td>2012</td>\n      <td>71837.720959</td>\n    </tr>\n  </tbody>\n</table>\n</div>",
                        "text/plain": "   Postcode  Sales_Rep_ID Sales_Rep_Name  Year         Value\n0      2121           456           Jane  2011  84219.497311\n1      2092           789         Ashish  2012  28322.192268\n2      2128           456           Jane  2013  81878.997241\n3      2073           123           John  2011  44491.142121\n4      2134           789         Ashish  2012  71837.720959"
                    },
                    "execution_count": 1,
                    "metadata": {},
                    "output_type": "execute_result"
                }
            ],
            "source": "# The code was removed by Watson Studio for sharing."
        },
        {
            "cell_type": "code",
            "execution_count": null,
            "metadata": {},
            "outputs": [],
            "source": ""
        }
    ],
    "metadata": {
        "kernelspec": {
            "display_name": "Python 3.6",
            "language": "python",
            "name": "python3"
        },
        "language_info": {
            "codemirror_mode": {
                "name": "ipython",
                "version": 3
            },
            "file_extension": ".py",
            "mimetype": "text/x-python",
            "name": "python",
            "nbconvert_exporter": "python",
            "pygments_lexer": "ipython3",
            "version": "3.6.9"
        }
    },
    "nbformat": 4,
    "nbformat_minor": 1
}